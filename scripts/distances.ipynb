{
 "cells": [
  {
   "cell_type": "code",
   "execution_count": 1,
   "id": "69283f45-e2be-4828-9e84-8758cd1da4f9",
   "metadata": {
    "tags": []
   },
   "outputs": [],
   "source": [
    "import numpy as np\n",
    "import geopandas as gpd\n",
    "from shapely.geometry import Point, LineString, Polygon\n",
    "from shapely.geometry import MultiPoint\n",
    "import networkx as nx\n",
    "import osmnx as ox\n",
    "import matplotlib.pyplot as plt"
   ]
  },
  {
   "cell_type": "code",
   "execution_count": 2,
   "id": "ada5a8a4-1d99-4316-a223-56cdb299659c",
   "metadata": {
    "tags": []
   },
   "outputs": [
    {
     "name": "stderr",
     "output_type": "stream",
     "text": [
      "C:\\Users\\aance\\AppData\\Local\\Temp\\ipykernel_3764\\848787634.py:2: FutureWarning: The buffer_dist argument has been deprecated and will be removed in the v2.0.0 release. Buffer your query area directly, if desired.\n",
      "  G_chc = ox.graph_from_place(place,network_type='drive', buffer_dist = 5000, simplify=False)\n",
      "C:\\Users\\aance\\anaconda3\\envs\\geoEnv\\lib\\site-packages\\osmnx\\graph.py:379: FutureWarning: The buffer_dist argument has been deprecated and will be removed in the v2.0.0 release. Buffer your results directly, if desired.\n",
      "  gdf_place = geocoder.geocode_to_gdf(\n"
     ]
    }
   ],
   "source": [
    "place = 'Chicago'\n",
    "G_chc = ox.graph_from_place(place,network_type='drive', buffer_dist = 5000, simplify=False)"
   ]
  },
  {
   "cell_type": "code",
   "execution_count": 3,
   "id": "46f349fc-a666-4382-8700-ff6450eff422",
   "metadata": {
    "tags": []
   },
   "outputs": [],
   "source": [
    "blocks = gpd.read_file('./data/censusBlocksAndClosestFireStations-20240212T1545.geojson')"
   ]
  },
  {
   "cell_type": "code",
   "execution_count": 4,
   "id": "3b38f431-e926-4e66-b241-f5abc555005c",
   "metadata": {
    "tags": []
   },
   "outputs": [],
   "source": [
    "block_nodes = ox.distance.nearest_nodes(G_chc,blocks.centroidLon,blocks.centroidLat)\n",
    "station_nodes = ox.distance.nearest_nodes(G_chc,blocks.stationLon,blocks.stationLat)"
   ]
  },
  {
   "cell_type": "code",
   "execution_count": 7,
   "id": "2e3aeab3-6813-44ac-9084-cb4ec85a201f",
   "metadata": {
    "tags": []
   },
   "outputs": [],
   "source": [
    "indices = list(range(len(blocks)))"
   ]
  },
  {
   "cell_type": "code",
   "execution_count": 11,
   "id": "3302c732-9383-4ddf-bc25-86cef5ac2f91",
   "metadata": {
    "tags": []
   },
   "outputs": [],
   "source": [
    "def distance_compute(i):\n",
    "    try :\n",
    "        return nx.shortest_path_length(G_chc,station_nodes[i],block_nodes[i],weight='travel_time')\n",
    "    except :\n",
    "        return -1"
   ]
  },
  {
   "cell_type": "code",
   "execution_count": 12,
   "id": "4efe82ca-63de-47b3-95cc-d42e823e8fa9",
   "metadata": {
    "tags": []
   },
   "outputs": [
    {
     "ename": "NameError",
     "evalue": "name 'indices' is not defined",
     "output_type": "error",
     "traceback": [
      "\u001b[1;31m---------------------------------------------------------------------------\u001b[0m",
      "\u001b[1;31mNameError\u001b[0m                                 Traceback (most recent call last)",
      "Cell \u001b[1;32mIn[12], line 4\u001b[0m\n\u001b[0;32m      1\u001b[0m \u001b[38;5;28;01mimport\u001b[39;00m \u001b[38;5;21;01mmultiprocess\u001b[39;00m \u001b[38;5;28;01mas\u001b[39;00m \u001b[38;5;21;01mmp\u001b[39;00m\n\u001b[0;32m      3\u001b[0m pool \u001b[38;5;241m=\u001b[39m mp\u001b[38;5;241m.\u001b[39mPool(\u001b[38;5;241m2\u001b[39m)\n\u001b[1;32m----> 4\u001b[0m distances \u001b[38;5;241m=\u001b[39m pool\u001b[38;5;241m.\u001b[39mmap(distance_compute, \u001b[43mindices\u001b[49m[:\u001b[38;5;241m50\u001b[39m])\n\u001b[0;32m      5\u001b[0m pool\u001b[38;5;241m.\u001b[39mclose()\n",
      "\u001b[1;31mNameError\u001b[0m: name 'indices' is not defined"
     ]
    }
   ],
   "source": [
    "import multiprocess as mp\n",
    "\n",
    "pool = mp.Pool(2)\n",
    "distances = pool.map(distance_compute, indices[:50])\n",
    "pool.close()"
   ]
  },
  {
   "cell_type": "code",
   "execution_count": 9,
   "id": "0e93a186-8ec0-4e47-836e-d98104fcc491",
   "metadata": {},
   "outputs": [
    {
     "data": {
      "text/plain": [
       "12"
      ]
     },
     "execution_count": 9,
     "metadata": {},
     "output_type": "execute_result"
    }
   ],
   "source": [
    "import multiprocessing as mp\n",
    "mp.cpu_count()"
   ]
  }
 ],
 "metadata": {
  "kernelspec": {
   "display_name": "Python 3 (ipykernel)",
   "language": "python",
   "name": "python3"
  },
  "language_info": {
   "codemirror_mode": {
    "name": "ipython",
    "version": 3
   },
   "file_extension": ".py",
   "mimetype": "text/x-python",
   "name": "python",
   "nbconvert_exporter": "python",
   "pygments_lexer": "ipython3",
   "version": "3.10.13"
  }
 },
 "nbformat": 4,
 "nbformat_minor": 5
}
